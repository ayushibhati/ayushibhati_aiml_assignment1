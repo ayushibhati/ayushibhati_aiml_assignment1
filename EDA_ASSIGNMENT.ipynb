{
  "nbformat": 4,
  "nbformat_minor": 0,
  "metadata": {
    "colab": {
      "provenance": [],
      "include_colab_link": true
    },
    "kernelspec": {
      "name": "python3",
      "display_name": "Python 3"
    },
    "language_info": {
      "name": "python"
    }
  },
  "cells": [
    {
      "cell_type": "markdown",
      "metadata": {
        "id": "view-in-github",
        "colab_type": "text"
      },
      "source": [
        "<a href=\"https://colab.research.google.com/github/ayushibhati/ayushibhati_aiml_assignment1/blob/main/EDA_ASSIGNMENT.ipynb\" target=\"_parent\"><img src=\"https://colab.research.google.com/assets/colab-badge.svg\" alt=\"Open In Colab\"/></a>"
      ]
    },
    {
      "cell_type": "markdown",
      "source": [
        "#EDA"
      ],
      "metadata": {
        "id": "67ZNXN8OF79T"
      }
    },
    {
      "cell_type": "markdown",
      "source": [
        "Hi everyone, This is your first assignment for week 1...\n",
        "So in this assignment you have to perform EDA on the below dataset.\n",
        "The problem statements are given below.\n",
        "Just write a code for them..."
      ],
      "metadata": {
        "id": "IIfMYAslGDhk"
      }
    },
    {
      "cell_type": "code",
      "execution_count": 1,
      "metadata": {
        "colab": {
          "base_uri": "https://localhost:8080/",
          "height": 0
        },
        "id": "MC89QfHwiMFp",
        "outputId": "1df2a78d-a09f-49b4-c1db-6a4477536078"
      },
      "outputs": [
        {
          "output_type": "stream",
          "name": "stdout",
          "text": [
            "--2023-09-11 15:10:38--  https://www.kaggle.com/datasets/aestheteaman01/zomato-restaurants-in-delhi-ncr\n",
            "Resolving www.kaggle.com (www.kaggle.com)... 35.244.233.98\n",
            "Connecting to www.kaggle.com (www.kaggle.com)|35.244.233.98|:443... connected.\n",
            "HTTP request sent, awaiting response... 200 OK\n",
            "Length: unspecified [text/html]\n",
            "Saving to: ‘zomato-restaurants-in-delhi-ncr’\n",
            "\n",
            "zomato-restaurants-     [ <=>                ]  15.99K  --.-KB/s    in 0.06s   \n",
            "\n",
            "2023-09-11 15:10:38 (289 KB/s) - ‘zomato-restaurants-in-delhi-ncr’ saved [16372]\n",
            "\n"
          ]
        }
      ],
      "source": [
        "!wget https://www.kaggle.com/datasets/aestheteaman01/zomato-restaurants-in-delhi-ncr\n"
      ]
    },
    {
      "cell_type": "markdown",
      "source": [
        "Q1.Are there any null values in the dataset?if yes then fill them.."
      ],
      "metadata": {
        "id": "HtvWYJz-GfqA"
      }
    },
    {
      "cell_type": "code",
      "source": [
        "import pandas as pd\n",
        "import numpy as np\n",
        "import matplotlib.pyplot as plt\n",
        "import seaborn as sns\n",
        "import warnings\n",
        "warnings.filterwarnings('ignore')"
      ],
      "metadata": {
        "id": "s-on8iKJGhbW"
      },
      "execution_count": 12,
      "outputs": []
    },
    {
      "cell_type": "code",
      "source": [
        "data=pd.read_csv(\"/content/DelhiNCR Restaurants.csv\")"
      ],
      "metadata": {
        "id": "-EdL8qF1GhFy"
      },
      "execution_count": 19,
      "outputs": []
    },
    {
      "cell_type": "code",
      "source": [
        "type(data)"
      ],
      "metadata": {
        "colab": {
          "base_uri": "https://localhost:8080/",
          "height": 0
        },
        "id": "yhLEbFNf5e9j",
        "outputId": "1834a280-b138-490a-9390-24a182671ed6"
      },
      "execution_count": 20,
      "outputs": [
        {
          "output_type": "execute_result",
          "data": {
            "text/plain": [
              "pandas.core.frame.DataFrame"
            ]
          },
          "metadata": {},
          "execution_count": 20
        }
      ]
    },
    {
      "cell_type": "code",
      "source": [
        "data.isna().sum()"
      ],
      "metadata": {
        "colab": {
          "base_uri": "https://localhost:8080/",
          "height": 0
        },
        "id": "CNHG871Y5vxg",
        "outputId": "9c4121ba-7446-443c-853d-f1e1b9e7e08e"
      },
      "execution_count": 52,
      "outputs": [
        {
          "output_type": "execute_result",
          "data": {
            "text/plain": [
              "Restaurant_Name            0\n",
              "Category                   0\n",
              "Pricing_for_2              0\n",
              "Locality                   0\n",
              "Dining_Rating              0\n",
              "Dining_Review_Count        0\n",
              "Delivery_Rating          402\n",
              "Delivery_Rating_Count      0\n",
              "Website                    0\n",
              "Address                    0\n",
              "Phone_No                   0\n",
              "Latitude                   0\n",
              "Longitude                  0\n",
              "Known_For2               405\n",
              "Known_For22              841\n",
              "dtype: int64"
            ]
          },
          "metadata": {},
          "execution_count": 52
        }
      ]
    },
    {
      "cell_type": "code",
      "source": [
        "dat=data.fillna(0)"
      ],
      "metadata": {
        "id": "UPoG0X_m5ws3"
      },
      "execution_count": 53,
      "outputs": []
    },
    {
      "cell_type": "code",
      "source": [
        "dat.isna().sum()"
      ],
      "metadata": {
        "colab": {
          "base_uri": "https://localhost:8080/",
          "height": 0
        },
        "id": "h3G-_BLq7ELQ",
        "outputId": "9f489d27-a2bc-4bf0-84df-7d630e7b2a51"
      },
      "execution_count": 54,
      "outputs": [
        {
          "output_type": "execute_result",
          "data": {
            "text/plain": [
              "Restaurant_Name          0\n",
              "Category                 0\n",
              "Pricing_for_2            0\n",
              "Locality                 0\n",
              "Dining_Rating            0\n",
              "Dining_Review_Count      0\n",
              "Delivery_Rating          0\n",
              "Delivery_Rating_Count    0\n",
              "Website                  0\n",
              "Address                  0\n",
              "Phone_No                 0\n",
              "Latitude                 0\n",
              "Longitude                0\n",
              "Known_For2               0\n",
              "Known_For22              0\n",
              "dtype: int64"
            ]
          },
          "metadata": {},
          "execution_count": 54
        }
      ]
    },
    {
      "cell_type": "markdown",
      "source": [
        "Q2.Which restaurant is the best one having ratings more than 4.5 for delivery\n"
      ],
      "metadata": {
        "id": "Ws9ZK5OdGiKG"
      }
    },
    {
      "cell_type": "code",
      "source": [
        "dat"
      ],
      "metadata": {
        "id": "6cObks5x5uZU"
      },
      "execution_count": null,
      "outputs": []
    },
    {
      "cell_type": "code",
      "source": [
        "res_del=dat[dat['Delivery_Rating']>=4.5]['Restaurant_Name'].tolist()\n",
        "res_del"
      ],
      "metadata": {
        "id": "eNld5uAoGq_o",
        "colab": {
          "base_uri": "https://localhost:8080/",
          "height": 0
        },
        "outputId": "6b21eacd-7cae-480d-bb3a-f4d7a934270b"
      },
      "execution_count": 56,
      "outputs": [
        {
          "output_type": "execute_result",
          "data": {
            "text/plain": [
              "['Natural Ice Cream',\n",
              " 'The Haven International Coffee House',\n",
              " 'Sibang Bakery',\n",
              " 'BreadTalk',\n",
              " 'Krua Thai',\n",
              " \"KAP's Restro Bar & Cafe\",\n",
              " 'Choko La',\n",
              " 'Twist of Italy']"
            ]
          },
          "metadata": {},
          "execution_count": 56
        }
      ]
    },
    {
      "cell_type": "markdown",
      "source": [
        "\n",
        "Q3.What type of food is most preffered by the customers?"
      ],
      "metadata": {
        "id": "6zt-dhyBGrkf"
      }
    },
    {
      "cell_type": "code",
      "source": [],
      "metadata": {
        "id": "mEo-7hKaGi4w"
      },
      "execution_count": null,
      "outputs": []
    },
    {
      "cell_type": "markdown",
      "source": [
        "Q4.How many people prefer delivery rather than dining ?"
      ],
      "metadata": {
        "id": "h3foQEmEGvxQ"
      }
    },
    {
      "cell_type": "code",
      "source": [
        "a=dat[\"Delivery_Rating_Count\"].sum()\n",
        "b=dat[\"Dining_Review_Count\"].sum()\n",
        "print(\"%age of ppl\",100*a/(a+b))"
      ],
      "metadata": {
        "id": "1Ph57fW1Gx5m",
        "colab": {
          "base_uri": "https://localhost:8080/",
          "height": 0
        },
        "outputId": "0f5ab466-7be0-4e83-988e-836e3cefc69c"
      },
      "execution_count": 57,
      "outputs": [
        {
          "output_type": "stream",
          "name": "stdout",
          "text": [
            "%age of ppl 80.75561060687843\n"
          ]
        }
      ]
    },
    {
      "cell_type": "code",
      "source": [],
      "metadata": {
        "id": "bpZjm6WRGxv5"
      },
      "execution_count": null,
      "outputs": []
    },
    {
      "cell_type": "markdown",
      "source": [
        "Q5.Which restaurant is the best one having ratings more than 4.5 for dining?"
      ],
      "metadata": {
        "id": "q6oUmSnmGynu"
      }
    },
    {
      "cell_type": "code",
      "source": [
        "res_din=dat[dat['Dining_Rating']>4.5]['Restaurant_Name'].tolist()\n",
        "res_din"
      ],
      "metadata": {
        "id": "VBoWONZkE5-t",
        "colab": {
          "base_uri": "https://localhost:8080/",
          "height": 0
        },
        "outputId": "74495c91-792e-4af2-ec3c-5b10f7cfbfa7"
      },
      "execution_count": 58,
      "outputs": [
        {
          "output_type": "execute_result",
          "data": {
            "text/plain": [
              "[\"Rustom's\",\n",
              " 'Cafe Lota',\n",
              " 'Dum-Pukht - ITC Maurya',\n",
              " 'Burma Burma',\n",
              " 'The Big Chill',\n",
              " 'Carnatic Cafe',\n",
              " 'Cocktails & Dreams, Speakeasy',\n",
              " 'Natural Ice Cream',\n",
              " 'Kuremal Mohan Lal Kulfi Wale',\n",
              " 'Juggernaut',\n",
              " 'Comorin',\n",
              " 'Viet:Nom',\n",
              " 'Cafeteria & Co.',\n",
              " 'Sana-Di-Ge',\n",
              " 'Pa Pa Ya',\n",
              " 'Yum Yum Cha',\n",
              " 'Coast Cafe',\n",
              " 'PizzaExpress',\n",
              " 'The Big Chill Cakery',\n",
              " 'Music & Mountains - Hillside Cafe',\n",
              " 'Gulati',\n",
              " 'Olive Bar & Kitchen',\n",
              " 'The Grammar Room',\n",
              " 'Chaina Ram Sindhi Confectioners',\n",
              " 'Sevilla - The Claridges',\n",
              " 'Bo Tai',\n",
              " 'Cafe Wink',\n",
              " 'Spezia Bistro',\n",
              " 'Evoo - Eatery And Pizzeria',\n",
              " 'Oh! Calcutta',\n",
              " 'Greenr Cafe',\n",
              " 'Downtown - Diners & Living Beer Cafe',\n",
              " \"Chili's Grill & Bar\",\n",
              " 'Theos',\n",
              " 'Kuuraku',\n",
              " 'Threesixtyone Degrees - The Oberoi',\n",
              " 'Jom Jom Malay',\n",
              " \"Andrea's Eatery\",\n",
              " 'The Ivy',\n",
              " 'The Saffron Boutique',\n",
              " \"Master Koii's\",\n",
              " 'Kunzum Travel Cafe',\n",
              " 'Echoes Living Room',\n",
              " 'AMA Cafe',\n",
              " 'Bukhara - ITC Maurya',\n",
              " \"Leo's\",\n",
              " 'Pirates of Grill',\n",
              " 'Roadhouse Cafe',\n",
              " 'Plum By Bent Chair',\n",
              " 'Kiyan - The Roseate',\n",
              " 'Dragonfly Experience',\n",
              " \"AB's - Absolute Barbecues\",\n",
              " 'Qureshi Kabab Corner',\n",
              " 'Clock Tower',\n",
              " 'Saravana Bhavan',\n",
              " 'C.I.A Call It Asiian',\n",
              " 'Open Tap',\n",
              " 'Hamoni: Cafe By The Greens',\n",
              " 'Indian Grill Room',\n",
              " 'Noida Social',\n",
              " 'K3 - JW Marriott New Delhi',\n",
              " 'Barbeque Nation',\n",
              " 'Di Ghent Cafe',\n",
              " 'Vapour Bar Exchange',\n",
              " 'Kiara Soul Kitchen',\n",
              " 'The Yellow Chilli',\n",
              " 'Mahabelly',\n",
              " 'The Piano Man Jazz Club',\n",
              " 'You Mee',\n",
              " 'Delhi Club House',\n",
              " \"Wenger's Deli\",\n",
              " \"Farmer's Basket At Pluck\",\n",
              " 'The Pasta Bowl Company',\n",
              " 'Chor Bizarre',\n",
              " 'Honk - Pullman New Delhi Aerocity',\n",
              " \"Sakley's The Mountain Cafe\",\n",
              " 'Cafe Diaries',\n",
              " \"Nando's\",\n",
              " 'Cafe Parmesan',\n",
              " \"Nona's Kitchen\",\n",
              " 'The Great Kabab Factory - Radisson Blu Plaza Delhi Airport',\n",
              " 'Wafflesome',\n",
              " 'Green House - The Beer Garden',\n",
              " 'Big Wong',\n",
              " \"La Pino'z Pizza\",\n",
              " 'The Hook',\n",
              " 'Rahul Eggs']"
            ]
          },
          "metadata": {},
          "execution_count": 58
        }
      ]
    },
    {
      "cell_type": "markdown",
      "source": [
        "Q6.Compare different delivery rating counts of different restaurants.\n",
        "Also tell that which restaurants has got the highest rating counts.\n",
        "Do this by creating a barplot"
      ],
      "metadata": {
        "id": "S0xc-qANHHoj"
      }
    },
    {
      "cell_type": "code",
      "source": [
        "dat[\"Restaurant_Name\"].describe()"
      ],
      "metadata": {
        "id": "fbQ26HqYIGfC",
        "colab": {
          "base_uri": "https://localhost:8080/",
          "height": 0
        },
        "outputId": "7912d90f-b588-45ac-df32-f97155042b2d"
      },
      "execution_count": 59,
      "outputs": [
        {
          "output_type": "execute_result",
          "data": {
            "text/plain": [
              "count              1965\n",
              "unique             1943\n",
              "top       Punjabi Zaika\n",
              "freq                  4\n",
              "Name: Restaurant_Name, dtype: object"
            ]
          },
          "metadata": {},
          "execution_count": 59
        }
      ]
    },
    {
      "cell_type": "code",
      "source": [],
      "metadata": {
        "id": "L8JiWyFIIPes"
      },
      "execution_count": null,
      "outputs": []
    }
  ]
}